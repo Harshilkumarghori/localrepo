{
  "nbformat": 4,
  "nbformat_minor": 0,
  "metadata": {
    "colab": {
      "provenance": [],
      "authorship_tag": "ABX9TyOs91gWJDI5MWAzkGlnaEUq",
      "include_colab_link": true
    },
    "kernelspec": {
      "name": "python3",
      "display_name": "Python 3"
    },
    "language_info": {
      "name": "python"
    }
  },
  "cells": [
    {
      "cell_type": "markdown",
      "metadata": {
        "id": "view-in-github",
        "colab_type": "text"
      },
      "source": [
        "<a href=\"https://colab.research.google.com/github/Harshilkumarghori/localrepo/blob/main/Speedtest.ipynb\" target=\"_parent\"><img src=\"https://colab.research.google.com/assets/colab-badge.svg\" alt=\"Open In Colab\"/></a>"
      ]
    },
    {
      "cell_type": "code",
      "source": [
        " # Install the speedtest-cli package\n",
        "import speedtest            # Now you can import the module"
      ],
      "metadata": {
        "id": "8CygAf7JfG-7"
      },
      "execution_count": 8,
      "outputs": []
    },
    {
      "cell_type": "code",
      "source": [
        "def check_internet_speed():\n",
        "    st = speedtest.Speedtest()\n",
        "    print(f'Download Speed is: {st.download()/8000000:.2f}mb')\n",
        "    print(f'Upload Speed is: {st.upload()/8000000:.2f}mb')\n",
        "check_internet_speed()"
      ],
      "metadata": {
        "colab": {
          "base_uri": "https://localhost:8080/"
        },
        "id": "T6DiWYF_fNq0",
        "outputId": "17f55ea0-3406-41e2-f611-6df52e951f4c"
      },
      "execution_count": 12,
      "outputs": [
        {
          "output_type": "stream",
          "name": "stdout",
          "text": [
            "Download Speed is: 210.79mb\n",
            "Upload Speed is: 41.98mb\n"
          ]
        }
      ]
    }
  ]
}